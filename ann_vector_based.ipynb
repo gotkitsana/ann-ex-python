{
  "nbformat": 4,
  "nbformat_minor": 0,
  "metadata": {
    "colab": {
      "provenance": [],
      "toc_visible": true,
      "authorship_tag": "ABX9TyNkazdlZqtcchF3athWCUes",
      "include_colab_link": true
    },
    "kernelspec": {
      "name": "python3",
      "display_name": "Python 3"
    },
    "language_info": {
      "name": "python"
    }
  },
  "cells": [
    {
      "cell_type": "markdown",
      "metadata": {
        "id": "view-in-github",
        "colab_type": "text"
      },
      "source": [
        "<a href=\"https://colab.research.google.com/github/gotkitsana/ann-ex-python/blob/main/ann_vector_based.ipynb\" target=\"_parent\"><img src=\"https://colab.research.google.com/assets/colab-badge.svg\" alt=\"Open In Colab\"/></a>"
      ]
    },
    {
      "cell_type": "code",
      "execution_count": 1,
      "metadata": {
        "id": "QQj5nuzYcukB"
      },
      "outputs": [],
      "source": [
        "import numpy as np\n",
        "from matplotlib import pyplot as plt"
      ]
    },
    {
      "cell_type": "code",
      "source": [
        "def perceptron(X, T, lr=0.1, w=None):\n",
        "  X = np.hstack((np.array(X), np.ones((len(X), 1))))\n",
        "  if w is None:\n",
        "    w = X[np.random.randint(0, len(X))].copy()\n",
        "  done = False\n",
        "  while not done:\n",
        "    done = True\n",
        "    for i, x in enumerate(X):\n",
        "      if T[i] * np.dot(x, w) <= 0:\n",
        "        w += lr * x * T[i]\n",
        "        done = False\n",
        "  return w"
      ],
      "metadata": {
        "id": "GraMEcwvdxcY"
      },
      "execution_count": 2,
      "outputs": []
    },
    {
      "cell_type": "code",
      "source": [
        "def plot_hyperplane2d(X,T,w):\n",
        "  X = np.array(X)\n",
        "  T = np.array(T)\n",
        "  plt.plot(X[T==1, 0], X[T==1,1], 'go')\n",
        "  plt.plot(X[T==-1,0], X[T==-1,1], 'ro')\n",
        "  xlim = plt.gca().get_xlim()\n",
        "  slope = -w[0]/w[1]\n",
        "  bias = -w[-1]/w[1]\n",
        "  plt.plot(xlim, [xlim[0] * slope + bias, xlim[1] * slope + bias], 'b')"
      ],
      "metadata": {
        "id": "FxkeQaN_loUU"
      },
      "execution_count": 6,
      "outputs": []
    },
    {
      "cell_type": "code",
      "source": [
        "#OR problem\n",
        "X = [[1,1], [1, -1], [-1,1], [-1,-1]]\n",
        "T = [1,1,1,-1]"
      ],
      "metadata": {
        "id": "mxFQ2239kvLy"
      },
      "execution_count": 3,
      "outputs": []
    },
    {
      "cell_type": "code",
      "source": [
        "# AND problem\n",
        "X = [[1,1], [1, -1], [-1,1], [-1,-1]]\n",
        "T = [1,-1,-1,-1]"
      ],
      "metadata": {
        "id": "1ObSw0hMm6nq"
      },
      "execution_count": 17,
      "outputs": []
    },
    {
      "cell_type": "code",
      "source": [
        "# XOR problem don't run it\n",
        "X = [[1,1], [1, -1], [-1,1], [-1,-1]]\n",
        "T = [-1,1,1,-1]"
      ],
      "metadata": {
        "id": "20PP2tlmnED7"
      },
      "execution_count": 15,
      "outputs": []
    },
    {
      "cell_type": "code",
      "source": [
        "w = perceptron(X, T, lr=1e-1)\n",
        "print(w)\n",
        "plot_hyperplane2d(X, T, w)"
      ],
      "metadata": {
        "colab": {
          "base_uri": "https://localhost:8080/",
          "height": 283
        },
        "id": "4VHArHeJkriw",
        "outputId": "a5e44fe7-ed86-4932-fd7d-a47237be4ba3"
      },
      "execution_count": 18,
      "outputs": [
        {
          "output_type": "stream",
          "name": "stdout",
          "text": [
            "[ 0.1  0.1 -0.1]\n"
          ]
        },
        {
          "output_type": "display_data",
          "data": {
            "text/plain": [
              "<Figure size 432x288 with 1 Axes>"
            ],
            "image/png": "[encoded data removed]"
          },
          "metadata": {
            "needs_background": "light"
          }
        }
      ]
    }
  ]
}