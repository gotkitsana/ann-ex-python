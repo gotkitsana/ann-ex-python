{
  "nbformat": 4,
  "nbformat_minor": 0,
  "metadata": {
    "colab": {
      "provenance": [],
      "toc_visible": true,
      "authorship_tag": "ABX9TyN7ruRaVJvIGqHgk0xTFty/",
      "include_colab_link": true
    },
    "kernelspec": {
      "name": "python3",
      "display_name": "Python 3"
    },
    "language_info": {
      "name": "python"
    }
  },
  "cells": [
    {
      "cell_type": "markdown",
      "metadata": {
        "id": "view-in-github",
        "colab_type": "text"
      },
      "source": [
        "<a href=\"https://colab.research.google.com/github/gotkitsana/ann-ex-python/blob/main/ann_vector_based.ipynb\" target=\"_parent\"><img src=\"https://colab.research.google.com/assets/colab-badge.svg\" alt=\"Open In Colab\"/></a>"
      ]
    },
    {
      "cell_type": "code",
      "execution_count": null,
      "metadata": {
        "id": "QQj5nuzYcukB"
      },
      "outputs": [],
      "source": [
        "import numpy as np\n",
        "from matplotlib import pyplot as plt"
      ]
    },
    {
      "cell_type": "code",
      "source": [
        "def perceptron(X, T, lr=0.1, w=None):\n",
        "  X = np.hstack((np.array(X), np.ones((len(X), 1))))\n",
        "  if w is None:\n",
        "    w = X[np.random.randint(0, len(X))].copy()\n",
        "  done = False\n",
        "  while not done:\n",
        "    done = True\n",
        "    for i, x in enumerate(X):\n",
        "      if T[i] * np.dot(x, w) <= 0:\n",
        "        w += lr * x * T[i]\n",
        "        done = False\n",
        "  return w"
      ],
      "metadata": {
        "id": "GraMEcwvdxcY"
      },
      "execution_count": null,
      "outputs": []
    }
  ]
}